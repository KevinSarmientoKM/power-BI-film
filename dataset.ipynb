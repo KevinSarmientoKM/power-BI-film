{
 "cells": [
  {
   "cell_type": "code",
   "execution_count": 17,
   "id": "fc3e9dc4",
   "metadata": {},
   "outputs": [],
   "source": [
    "import pandas as pd\n",
    "\n",
    "def clean_data(df):\n",
    "    # # Rinominare la colonna 'Title' in 'Titolo Film'\n",
    "    # df = df.rename(columns={'Title': 'Titolo Film'})\n",
    "    # # Rinominare la colonna 'Genres' in 'Genere film'\n",
    "    # df = df.rename(columns={'Genres': 'Genere film'})\n",
    "    # Rimuovere righe duplicate nella colonna: 'Titolo Film'\n",
    "    df = df.drop_duplicates(subset=['Titolo Film'])\n",
    "    # Cambiare il tipo di colonna in object per la colonna: 'Titolo Film'\n",
    "    df = df.astype({'Titolo Film': 'object'})\n",
    "    return df\n",
    "\n",
    "# Caricata la variabile “df” dall'URI: c:\\Users\\karyl\\Desktop\\SAC-Project\\Elenco Movies definitivo.csv\n",
    "df = pd.read_csv(r'c:\\Users\\karyl\\Desktop\\SAC-Project\\file_dataset\\Elenco Movies definitivo.csv')\n",
    "# Pulita la variabile “df” con la funzione clean_data\n",
    "df = clean_data(df)\n",
    "# # Salvata la variabile “df” in un file CSV: c:\\Users\\karyl\\Desktop\\SAC-Project\\file_dataset\\Elenco Movies definitivo.csv\n",
    "# df.to_csv(r'c:\\Users\\karyl\\Desktop\\SAC-Project\\file_dataset\\Elenco Movies definitivo.csv', index=False)\n",
    "\n"
   ]
  },
  {
   "cell_type": "code",
   "execution_count": 18,
   "id": "3e8ddd37",
   "metadata": {},
   "outputs": [
    {
     "data": {
      "application/vnd.microsoft.datawrangler.viewer.v0+json": {
       "columns": [
        {
         "name": "index",
         "rawType": "int64",
         "type": "integer"
        },
        {
         "name": "MovieID",
         "rawType": "int64",
         "type": "integer"
        },
        {
         "name": "Titolo Film",
         "rawType": "object",
         "type": "string"
        },
        {
         "name": "Genere film",
         "rawType": "object",
         "type": "string"
        },
        {
         "name": "AnnoFilm",
         "rawType": "object",
         "type": "unknown"
        }
       ],
       "ref": "ff4e4409-2014-49f8-b481-33d2d48619aa",
       "rows": [
        [
         "0",
         "1",
         "Toy Story",
         "Animation|Children's|Comedy",
         "1995"
        ],
        [
         "1",
         "2",
         "Jumanji",
         "Adventure|Children's|Fantasy",
         "1995"
        ],
        [
         "2",
         "3",
         "Grumpier Old Men",
         "Comedy|Romance",
         "1995"
        ],
        [
         "3",
         "4",
         "Waiting to Exhale",
         "Comedy|Drama",
         "1995"
        ],
        [
         "4",
         "5",
         "Father of the Bride Part II",
         "Comedy",
         "1995"
        ],
        [
         "5",
         "6",
         "Heat",
         "Action|Crime|Thriller",
         "1995"
        ],
        [
         "6",
         "7",
         "Sabrina",
         "Comedy|Romance",
         "1995"
        ],
        [
         "7",
         "8",
         "Tom and Huck",
         "Adventure|Children's",
         "1995"
        ],
        [
         "8",
         "9",
         "Sudden Death",
         "Action",
         "1995"
        ],
        [
         "9",
         "10",
         "GoldenEye",
         "Action|Adventure|Thriller",
         "1995"
        ],
        [
         "10",
         "11",
         "American President, The",
         "Comedy|Drama|Romance",
         "1995"
        ],
        [
         "11",
         "12",
         "Dracula: Dead and Loving It",
         "Comedy|Horror",
         "1995"
        ],
        [
         "12",
         "13",
         "Balto",
         "Animation|Children's",
         "1995"
        ],
        [
         "13",
         "14",
         "Nixon",
         "Drama",
         "1995"
        ],
        [
         "14",
         "15",
         "Cutthroat Island",
         "Action|Adventure|Romance",
         "1995"
        ],
        [
         "15",
         "16",
         "Casino (not_def)",
         "Drama|Thriller",
         null
        ],
        [
         "16",
         "17",
         "Sense and Sensibility",
         "Drama|Romance",
         "1995"
        ],
        [
         "17",
         "18",
         "Four Rooms",
         "Thriller",
         "1995"
        ],
        [
         "18",
         "19",
         "Ace Ventura: When Nature Calls",
         "Comedy",
         "1995"
        ],
        [
         "19",
         "20",
         "Money Train",
         "Action",
         "1995"
        ],
        [
         "20",
         "21",
         "Get Shorty",
         "Action|Comedy|Drama",
         "1995"
        ],
        [
         "21",
         "22",
         "Copycat",
         "Crime|Drama|Thriller",
         "1995"
        ],
        [
         "22",
         "23",
         "Assassins",
         "Thriller",
         "1995"
        ],
        [
         "23",
         "24",
         "Powder",
         "Drama|Sci-Fi",
         "1995"
        ],
        [
         "24",
         "25",
         "Leaving Las Vegas",
         "Drama|Romance",
         "1995"
        ],
        [
         "25",
         "26",
         "Othello",
         "Drama",
         "1995"
        ],
        [
         "26",
         "27",
         "Now and Then",
         "Drama",
         "1995"
        ],
        [
         "27",
         "28",
         "Persuasion",
         "Romance",
         "1995"
        ],
        [
         "28",
         "29",
         "City of Lost Children, The",
         "Adventure|Sci-Fi",
         "1995"
        ],
        [
         "29",
         "30",
         "Shanghai Triad (Yao a yao yao dao waipo qiao)",
         "Drama",
         "1995"
        ],
        [
         "30",
         "31",
         "Dangerous Minds",
         "Drama",
         "1995"
        ],
        [
         "31",
         "32",
         "Twelve Monkeys",
         "Drama|Sci-Fi",
         "1995"
        ],
        [
         "32",
         "33",
         "Wings of Courage",
         "Adventure|Romance",
         "1995"
        ],
        [
         "33",
         "34",
         "Babe",
         "Children's|Comedy|Drama",
         "1995"
        ],
        [
         "34",
         "35",
         "Carrington",
         "Drama|Romance",
         "1995"
        ],
        [
         "35",
         "36",
         "Dead Man Walking",
         "Drama",
         "1995"
        ],
        [
         "36",
         "37",
         "Across the Sea of Time",
         "Documentary",
         "1995"
        ],
        [
         "37",
         "38",
         "It Takes Two",
         "Comedy",
         "1995"
        ],
        [
         "38",
         "39",
         "Clueless",
         "Comedy|Romance",
         "1995"
        ],
        [
         "39",
         "40",
         "Cry, the Beloved Country",
         "Drama",
         "1995"
        ],
        [
         "40",
         "41",
         "Richard III",
         "Drama|War",
         "1995"
        ],
        [
         "41",
         "42",
         "Dead Presidents",
         "Action|Crime|Drama",
         "1995"
        ],
        [
         "42",
         "43",
         "Restoration",
         "Drama",
         "1995"
        ],
        [
         "43",
         "44",
         "Mortal Kombat",
         "Action|Adventure",
         "1995"
        ],
        [
         "44",
         "45",
         "To Die For",
         "Comedy|Drama",
         "1995"
        ],
        [
         "45",
         "46",
         "How to Make an American Quilt",
         "Drama|Romance",
         "1995"
        ],
        [
         "46",
         "47",
         "Seven (Se7en)",
         "Crime|Thriller",
         "1995"
        ],
        [
         "47",
         "48",
         "Pocahontas",
         "Animation|Children's|Musical|Romance",
         "1995"
        ],
        [
         "48",
         "49",
         "When Night Is Falling",
         "Drama|Romance",
         "1995"
        ],
        [
         "49",
         "50",
         "Usual Suspects, The",
         "Crime|Thriller",
         "1995"
        ]
       ],
       "shape": {
        "columns": 4,
        "rows": 3883
       }
      },
      "text/html": [
       "<div>\n",
       "<style scoped>\n",
       "    .dataframe tbody tr th:only-of-type {\n",
       "        vertical-align: middle;\n",
       "    }\n",
       "\n",
       "    .dataframe tbody tr th {\n",
       "        vertical-align: top;\n",
       "    }\n",
       "\n",
       "    .dataframe thead th {\n",
       "        text-align: right;\n",
       "    }\n",
       "</style>\n",
       "<table border=\"1\" class=\"dataframe\">\n",
       "  <thead>\n",
       "    <tr style=\"text-align: right;\">\n",
       "      <th></th>\n",
       "      <th>MovieID</th>\n",
       "      <th>Titolo Film</th>\n",
       "      <th>Genere film</th>\n",
       "      <th>AnnoFilm</th>\n",
       "    </tr>\n",
       "  </thead>\n",
       "  <tbody>\n",
       "    <tr>\n",
       "      <th>0</th>\n",
       "      <td>1</td>\n",
       "      <td>Toy Story</td>\n",
       "      <td>Animation|Children's|Comedy</td>\n",
       "      <td>1995</td>\n",
       "    </tr>\n",
       "    <tr>\n",
       "      <th>1</th>\n",
       "      <td>2</td>\n",
       "      <td>Jumanji</td>\n",
       "      <td>Adventure|Children's|Fantasy</td>\n",
       "      <td>1995</td>\n",
       "    </tr>\n",
       "    <tr>\n",
       "      <th>2</th>\n",
       "      <td>3</td>\n",
       "      <td>Grumpier Old Men</td>\n",
       "      <td>Comedy|Romance</td>\n",
       "      <td>1995</td>\n",
       "    </tr>\n",
       "    <tr>\n",
       "      <th>3</th>\n",
       "      <td>4</td>\n",
       "      <td>Waiting to Exhale</td>\n",
       "      <td>Comedy|Drama</td>\n",
       "      <td>1995</td>\n",
       "    </tr>\n",
       "    <tr>\n",
       "      <th>4</th>\n",
       "      <td>5</td>\n",
       "      <td>Father of the Bride Part II</td>\n",
       "      <td>Comedy</td>\n",
       "      <td>1995</td>\n",
       "    </tr>\n",
       "    <tr>\n",
       "      <th>...</th>\n",
       "      <td>...</td>\n",
       "      <td>...</td>\n",
       "      <td>...</td>\n",
       "      <td>...</td>\n",
       "    </tr>\n",
       "    <tr>\n",
       "      <th>3878</th>\n",
       "      <td>3879</td>\n",
       "      <td>Meet the Parents</td>\n",
       "      <td>Comedy</td>\n",
       "      <td>2000</td>\n",
       "    </tr>\n",
       "    <tr>\n",
       "      <th>3879</th>\n",
       "      <td>3880</td>\n",
       "      <td>Requiem for a Dream</td>\n",
       "      <td>Drama</td>\n",
       "      <td>2000</td>\n",
       "    </tr>\n",
       "    <tr>\n",
       "      <th>3880</th>\n",
       "      <td>3881</td>\n",
       "      <td>Tigerland</td>\n",
       "      <td>Drama</td>\n",
       "      <td>2000</td>\n",
       "    </tr>\n",
       "    <tr>\n",
       "      <th>3881</th>\n",
       "      <td>3882</td>\n",
       "      <td>Two Family House</td>\n",
       "      <td>Drama</td>\n",
       "      <td>2000</td>\n",
       "    </tr>\n",
       "    <tr>\n",
       "      <th>3882</th>\n",
       "      <td>3883</td>\n",
       "      <td>Contender, The</td>\n",
       "      <td>Drama|Thriller</td>\n",
       "      <td>2000</td>\n",
       "    </tr>\n",
       "  </tbody>\n",
       "</table>\n",
       "<p>3883 rows × 4 columns</p>\n",
       "</div>"
      ],
      "text/plain": [
       "      MovieID                  Titolo Film                   Genere film  \\\n",
       "0           1                    Toy Story   Animation|Children's|Comedy   \n",
       "1           2                      Jumanji  Adventure|Children's|Fantasy   \n",
       "2           3             Grumpier Old Men                Comedy|Romance   \n",
       "3           4            Waiting to Exhale                  Comedy|Drama   \n",
       "4           5  Father of the Bride Part II                        Comedy   \n",
       "...       ...                          ...                           ...   \n",
       "3878     3879             Meet the Parents                        Comedy   \n",
       "3879     3880          Requiem for a Dream                         Drama   \n",
       "3880     3881                    Tigerland                         Drama   \n",
       "3881     3882             Two Family House                         Drama   \n",
       "3882     3883               Contender, The                Drama|Thriller   \n",
       "\n",
       "     AnnoFilm  \n",
       "0        1995  \n",
       "1        1995  \n",
       "2        1995  \n",
       "3        1995  \n",
       "4        1995  \n",
       "...       ...  \n",
       "3878     2000  \n",
       "3879     2000  \n",
       "3880     2000  \n",
       "3881     2000  \n",
       "3882     2000  \n",
       "\n",
       "[3883 rows x 4 columns]"
      ]
     },
     "execution_count": 18,
     "metadata": {},
     "output_type": "execute_result"
    }
   ],
   "source": [
    "\"\"\"\n",
    "Cella generata da Data Wrangler.\n",
    "\"\"\"\n",
    "def clean_data(df):\n",
    "    # Python code to recalibrate MovieID and create AnnoFilm table\n",
    "    # Step 1: Recalibrate MovieID to be in ascending order\n",
    "    df['MovieID'] = range(1, len(df) + 1)\n",
    "    # Step 2: Extract year from Titolo Film and create AnnoFilm table\n",
    "    df['AnnoFilm'] = df['Titolo Film'].str.extract(r'\\((\\d{4})\\)', expand=False)\n",
    "    # Step 3: Create a new DataFrame with film titles and years\n",
    "    AnnoFilm = pd.DataFrame({\n",
    "        'Film': df['Titolo Film'],\n",
    "        'Anno': df['AnnoFilm']\n",
    "    })\n",
    "    # Remove years from movie titles\n",
    "    df['Titolo Film'] = df['Titolo Film'].str.replace(r'\\s*\\(\\d{4}\\)$', '', regex=True)\n",
    "    return df\n",
    "\n",
    "df_clean = clean_data(df.copy())\n",
    "df_clean"
   ]
  },
  {
   "cell_type": "code",
   "execution_count": 19,
   "id": "b3af7f01",
   "metadata": {},
   "outputs": [
    {
     "data": {
      "application/vnd.microsoft.datawrangler.viewer.v0+json": {
       "columns": [
        {
         "name": "index",
         "rawType": "int64",
         "type": "integer"
        },
        {
         "name": "MovieID",
         "rawType": "int64",
         "type": "integer"
        },
        {
         "name": "Titolo Film",
         "rawType": "object",
         "type": "string"
        },
        {
         "name": "Genere film",
         "rawType": "object",
         "type": "string"
        },
        {
         "name": "AnnoFilm",
         "rawType": "object",
         "type": "string"
        }
       ],
       "ref": "e6d2825a-1e50-439a-9eae-57e1c57d79be",
       "rows": [
        [
         "0",
         "1",
         "Toy Story",
         "Animation|Children's|Comedy",
         "1995"
        ],
        [
         "1",
         "2",
         "Jumanji",
         "Adventure|Children's|Fantasy",
         "1995"
        ],
        [
         "2",
         "3",
         "Grumpier Old Men",
         "Comedy|Romance",
         "1995"
        ],
        [
         "3",
         "4",
         "Waiting to Exhale",
         "Comedy|Drama",
         "1995"
        ],
        [
         "4",
         "5",
         "Father of the Bride Part II",
         "Comedy",
         "1995"
        ]
       ],
       "shape": {
        "columns": 4,
        "rows": 5
       }
      },
      "text/html": [
       "<div>\n",
       "<style scoped>\n",
       "    .dataframe tbody tr th:only-of-type {\n",
       "        vertical-align: middle;\n",
       "    }\n",
       "\n",
       "    .dataframe tbody tr th {\n",
       "        vertical-align: top;\n",
       "    }\n",
       "\n",
       "    .dataframe thead th {\n",
       "        text-align: right;\n",
       "    }\n",
       "</style>\n",
       "<table border=\"1\" class=\"dataframe\">\n",
       "  <thead>\n",
       "    <tr style=\"text-align: right;\">\n",
       "      <th></th>\n",
       "      <th>MovieID</th>\n",
       "      <th>Titolo Film</th>\n",
       "      <th>Genere film</th>\n",
       "      <th>AnnoFilm</th>\n",
       "    </tr>\n",
       "  </thead>\n",
       "  <tbody>\n",
       "    <tr>\n",
       "      <th>0</th>\n",
       "      <td>1</td>\n",
       "      <td>Toy Story</td>\n",
       "      <td>Animation|Children's|Comedy</td>\n",
       "      <td>1995</td>\n",
       "    </tr>\n",
       "    <tr>\n",
       "      <th>1</th>\n",
       "      <td>2</td>\n",
       "      <td>Jumanji</td>\n",
       "      <td>Adventure|Children's|Fantasy</td>\n",
       "      <td>1995</td>\n",
       "    </tr>\n",
       "    <tr>\n",
       "      <th>2</th>\n",
       "      <td>3</td>\n",
       "      <td>Grumpier Old Men</td>\n",
       "      <td>Comedy|Romance</td>\n",
       "      <td>1995</td>\n",
       "    </tr>\n",
       "    <tr>\n",
       "      <th>3</th>\n",
       "      <td>4</td>\n",
       "      <td>Waiting to Exhale</td>\n",
       "      <td>Comedy|Drama</td>\n",
       "      <td>1995</td>\n",
       "    </tr>\n",
       "    <tr>\n",
       "      <th>4</th>\n",
       "      <td>5</td>\n",
       "      <td>Father of the Bride Part II</td>\n",
       "      <td>Comedy</td>\n",
       "      <td>1995</td>\n",
       "    </tr>\n",
       "  </tbody>\n",
       "</table>\n",
       "</div>"
      ],
      "text/plain": [
       "   MovieID                  Titolo Film                   Genere film AnnoFilm\n",
       "0        1                    Toy Story   Animation|Children's|Comedy     1995\n",
       "1        2                      Jumanji  Adventure|Children's|Fantasy     1995\n",
       "2        3             Grumpier Old Men                Comedy|Romance     1995\n",
       "3        4            Waiting to Exhale                  Comedy|Drama     1995\n",
       "4        5  Father of the Bride Part II                        Comedy     1995"
      ]
     },
     "execution_count": 19,
     "metadata": {},
     "output_type": "execute_result"
    }
   ],
   "source": [
    "df_clean.head()"
   ]
  },
  {
   "cell_type": "code",
   "execution_count": 20,
   "id": "ce86b788",
   "metadata": {},
   "outputs": [],
   "source": [
    "df_clean.to_csv(r'c:\\Users\\karyl\\Desktop\\SAC-Project\\file_dataset\\Elenco_Movies_pulito.csv', index=False)"
   ]
  }
 ],
 "metadata": {
  "kernelspec": {
   "display_name": "Python 3",
   "language": "python",
   "name": "python3"
  },
  "language_info": {
   "codemirror_mode": {
    "name": "ipython",
    "version": 3
   },
   "file_extension": ".py",
   "mimetype": "text/x-python",
   "name": "python",
   "nbconvert_exporter": "python",
   "pygments_lexer": "ipython3",
   "version": "3.13.2"
  }
 },
 "nbformat": 4,
 "nbformat_minor": 5
}
